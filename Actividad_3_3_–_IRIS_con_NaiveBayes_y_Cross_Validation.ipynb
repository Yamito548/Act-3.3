{
  "nbformat": 4,
  "nbformat_minor": 0,
  "metadata": {
    "colab": {
      "provenance": [],
      "authorship_tag": "ABX9TyOeuv6hv/5A49VYxHg3/v8y",
      "include_colab_link": true
    },
    "kernelspec": {
      "name": "python3",
      "display_name": "Python 3"
    },
    "language_info": {
      "name": "python"
    }
  },
  "cells": [
    {
      "cell_type": "markdown",
      "metadata": {
        "id": "view-in-github",
        "colab_type": "text"
      },
      "source": [
        "<a href=\"https://colab.research.google.com/github/Yamito548/Act-3.3/blob/main/Actividad_3_3_%E2%80%93_IRIS_con_NaiveBayes_y_Cross_Validation.ipynb\" target=\"_parent\"><img src=\"https://colab.research.google.com/assets/colab-badge.svg\" alt=\"Open In Colab\"/></a>"
      ]
    },
    {
      "cell_type": "markdown",
      "source": [
        "**Ejercicicio 3.3** by Dylan J. Ramírez Bermúdez\n",
        "Dataset pingüinos"
      ],
      "metadata": {
        "id": "oZr2EOVIfOYq"
      }
    },
    {
      "cell_type": "markdown",
      "source": [
        "# Cross validation"
      ],
      "metadata": {
        "id": "EBv4fSPLVPzO"
      }
    },
    {
      "cell_type": "code",
      "execution_count": null,
      "metadata": {
        "id": "_WTOzBTYTm9g"
      },
      "outputs": [],
      "source": [
        "#Datasets\n",
        "import seaborn as sns\n",
        "#maninuplacion de datos\n",
        "import pandas as pd\n",
        "import numpy as np\n",
        "#Gráficos\n",
        "from sklearn.model_selection import cross_val_score\n",
        "from sklearn.preprocessing import LabelEncoder\n",
        "from sklearn.model_selection import train_test_split\n",
        "from matplotlib.colors import ListedColormap\n",
        "from sklearn.preprocessing import StandardScaler, MinMaxScaler\n",
        "from sklearn.metrics import accuracy_score\n",
        "#Clasificadores\n",
        "from sklearn.naive_bayes import GaussianNB, MultinomialNB, BernoulliNB, ComplementNB\n",
        "import matplotlib.pyplot as plt\n",
        "#Dataset pingüinos\n",
        "penguin = sns.load_dataset(\"penguins\")\n",
        "penguin"
      ]
    },
    {
      "cell_type": "code",
      "source": [
        "#Rellenamos los datos faltantes.\n",
        "penguin[['bill_length_mm', 'bill_depth_mm', 'flipper_length_mm', 'body_mass_g']] = \\\n",
        "    penguin[['bill_length_mm', 'bill_depth_mm', 'flipper_length_mm', 'body_mass_g']].fillna(penguin.mean())"
      ],
      "metadata": {
        "colab": {
          "base_uri": "https://localhost:8080/"
        },
        "id": "S9sSsP1NVvh1",
        "outputId": "c0bf971c-40cb-41f2-e2e8-3ee86468a193"
      },
      "execution_count": null,
      "outputs": [
        {
          "output_type": "stream",
          "name": "stderr",
          "text": [
            "<ipython-input-11-43fa0ba2d099>:3: FutureWarning: The default value of numeric_only in DataFrame.mean is deprecated. In a future version, it will default to False. In addition, specifying 'numeric_only=None' is deprecated. Select only valid columns or specify the value of numeric_only to silence this warning.\n",
            "  penguin[['bill_length_mm', 'bill_depth_mm', 'flipper_length_mm', 'body_mass_g']].fillna(penguin.mean())\n"
          ]
        }
      ]
    },
    {
      "cell_type": "markdown",
      "source": [
        "# Cambiar valores a 1"
      ],
      "metadata": {
        "id": "fPxZ2PwMeMDr"
      }
    },
    {
      "cell_type": "code",
      "source": [
        "le = LabelEncoder()\n",
        "penguin['sex'] = le.fit_transform(penguin['sex'])"
      ],
      "metadata": {
        "id": "k2cc6hmpX6ua"
      },
      "execution_count": null,
      "outputs": []
    },
    {
      "cell_type": "code",
      "source": [
        "penguin['sex'] = penguin['sex'].fillna(penguin['sex'].mode().iloc[0])"
      ],
      "metadata": {
        "id": "aWuI9d7WV3DS"
      },
      "execution_count": null,
      "outputs": []
    },
    {
      "cell_type": "markdown",
      "source": [
        "# MultinomialNB"
      ],
      "metadata": {
        "id": "EBZcD5tLViaZ"
      }
    },
    {
      "cell_type": "markdown",
      "source": [
        "# Truco cross validation, cortito"
      ],
      "metadata": {
        "id": "kQm8zAuhbXV2"
      }
    },
    {
      "cell_type": "code",
      "source": [
        "# Definir las características (X) y la variable objetivo (y)\n",
        "X = penguin[['bill_length_mm', 'bill_depth_mm', 'flipper_length_mm', 'body_mass_g', 'sex']]\n",
        "y = penguin['species']\n",
        "\n",
        "# Crear el clasificador MultinomialNB()\n",
        "clf = MultinomialNB()\n",
        "\n",
        "# Realizar cross-validation con 5 folds\n",
        "cv_scores = cross_val_score(clf, X, y, cv=5)\n",
        "\n",
        "# Imprimir los resultados\n",
        "print(\"Resultados de Cross-Validation:\")\n",
        "print(cv_scores)\n",
        "print(\"Precisión media: {:.2f}\".format(cv_scores.mean()))\n",
        "#En estos casos se divide 5 veces, y se entrena. Luego se hace media de todos los resultados."
      ],
      "metadata": {
        "colab": {
          "base_uri": "https://localhost:8080/"
        },
        "id": "hAFqdm1QV5Uq",
        "outputId": "fd33f927-c2e4-43b2-bd9a-6923c04c8421"
      },
      "execution_count": null,
      "outputs": [
        {
          "output_type": "stream",
          "name": "stdout",
          "text": [
            "Resultados de Cross-Validation:\n",
            "[0.79710145 0.76811594 0.8115942  0.8115942  0.86764706]\n",
            "Precisión media: 0.81\n"
          ]
        }
      ]
    },
    {
      "cell_type": "markdown",
      "source": [
        "# GaussianNB"
      ],
      "metadata": {
        "id": "KOJU5uOFewdR"
      }
    },
    {
      "cell_type": "code",
      "source": [
        "# Definir las características (X) y la variable objetivo (y)\n",
        "X = penguin[['bill_length_mm', 'bill_depth_mm', 'flipper_length_mm', 'body_mass_g', 'sex']]\n",
        "y = penguin['species']\n",
        "\n",
        "# Crear el clasificador MultinomialNB()\n",
        "clf = GaussianNB()\n",
        "\n",
        "# Realizar cross-validation con 5 folds\n",
        "cv_scores = cross_val_score(clf, X, y, cv=5)\n",
        "\n",
        "# Imprimir los resultados\n",
        "print(\"Resultados de Cross-Validation:\")\n",
        "print(cv_scores)\n",
        "print(\"Precisión media: {:.2f}\".format(cv_scores.mean()))"
      ],
      "metadata": {
        "colab": {
          "base_uri": "https://localhost:8080/"
        },
        "id": "69EWBo05erwK",
        "outputId": "02b005bd-2db4-4247-a7e4-5114359956d1"
      },
      "execution_count": null,
      "outputs": [
        {
          "output_type": "stream",
          "name": "stdout",
          "text": [
            "Resultados de Cross-Validation:\n",
            "[0.97101449 0.95652174 0.95652174 0.98550725 0.95588235]\n",
            "Precisión media: 0.97\n"
          ]
        }
      ]
    },
    {
      "cell_type": "markdown",
      "source": [
        "# BernoulliNB"
      ],
      "metadata": {
        "id": "06e5CZCufMYC"
      }
    },
    {
      "cell_type": "code",
      "source": [
        "# Definir las características (X) y la variable objetivo (y)\n",
        "X = penguin[['bill_length_mm', 'bill_depth_mm', 'flipper_length_mm', 'body_mass_g', 'sex']]\n",
        "y = penguin['species']\n",
        "\n",
        "# Crear el clasificador MultinomialNB()\n",
        "clf = BernoulliNB()\n",
        "\n",
        "# Realizar cross-validation con 5 folds\n",
        "cv_scores = cross_val_score(clf, X, y, cv=5)\n",
        "\n",
        "# Imprimir los resultados\n",
        "print(\"Resultados de Cross-Validation:\")\n",
        "print(cv_scores)\n",
        "print(\"Precisión media: {:.2f}\".format(cv_scores.mean()))"
      ],
      "metadata": {
        "colab": {
          "base_uri": "https://localhost:8080/"
        },
        "id": "msKTXtkhe4iH",
        "outputId": "384ed512-bec2-414e-cb3e-fbb6c6b6d31e"
      },
      "execution_count": null,
      "outputs": [
        {
          "output_type": "stream",
          "name": "stdout",
          "text": [
            "Resultados de Cross-Validation:\n",
            "[0.44927536 0.44927536 0.43478261 0.43478261 0.44117647]\n",
            "Precisión media: 0.44\n"
          ]
        }
      ]
    },
    {
      "cell_type": "markdown",
      "source": [
        "# ComplementNB"
      ],
      "metadata": {
        "id": "q6oqDXIjfSK4"
      }
    },
    {
      "cell_type": "code",
      "source": [
        "# Definir las características (X) y la variable objetivo (y)\n",
        "X = penguin[['bill_length_mm', 'bill_depth_mm', 'flipper_length_mm', 'body_mass_g', 'sex']]\n",
        "y = penguin['species']\n",
        "\n",
        "# Crear el clasificador MultinomialNB()\n",
        "clf = ComplementNB()\n",
        "\n",
        "# Realizar cross-validation con 5 folds\n",
        "cv_scores = cross_val_score(clf, X, y, cv=5)\n",
        "\n",
        "# Imprimir los resultados\n",
        "print(\"Resultados de Cross-Validation:\")\n",
        "print(cv_scores)\n",
        "print(\"Precisión media: {:.2f}\".format(cv_scores.mean()))"
      ],
      "metadata": {
        "colab": {
          "base_uri": "https://localhost:8080/"
        },
        "id": "-diifbsDfRMX",
        "outputId": "9565894a-c2de-4fcb-efcc-6b79638b7fd6"
      },
      "execution_count": null,
      "outputs": [
        {
          "output_type": "stream",
          "name": "stdout",
          "text": [
            "Resultados de Cross-Validation:\n",
            "[0.69565217 0.71014493 0.69565217 0.66666667 0.73529412]\n",
            "Precisión media: 0.70\n"
          ]
        }
      ]
    },
    {
      "cell_type": "markdown",
      "source": [
        "# Cross validation a mano"
      ],
      "metadata": {
        "id": "ugEpF1DbbrHY"
      }
    },
    {
      "cell_type": "code",
      "source": [
        "#Dividamos los datos de entrenamiento\n",
        "X_train, X_test, y_train, y_test = \\\n",
        "        train_test_split(X, y, test_size=.3, random_state=42)\n",
        "\n",
        "# Clasificadores\n",
        "names = [\"GaussianNB\", \"MultiNomialNB\", 'BernouilliNB', 'ComplementNB']\n",
        "classifiers = [GaussianNB(), MultinomialNB(), BernoulliNB(), ComplementNB()]\n",
        "\n",
        "for name, clf in zip(names, classifiers):\n",
        "\n",
        "  # Entrenadr el modelo\n",
        "  clf.fit(X_train, y_train)\n",
        "  # PREDIT AND SCORE\n",
        "  score = clf.score(X_test, y_test) #Returns the mean accuracy on the given test data and labels.\n",
        "  print (\"Modelo: %s = %6.2f\" % (name, score))"
      ],
      "metadata": {
        "colab": {
          "base_uri": "https://localhost:8080/"
        },
        "id": "qPsDaszuYY1b",
        "outputId": "87b0ef68-beab-4a73-af09-abe4a057adf8"
      },
      "execution_count": null,
      "outputs": [
        {
          "output_type": "stream",
          "name": "stdout",
          "text": [
            "Modelo: GaussianNB =   0.96\n",
            "Modelo: MultiNomialNB =   0.82\n",
            "Modelo: BernouilliNB =   0.48\n",
            "Modelo: ComplementNB =   0.67\n"
          ]
        }
      ]
    },
    {
      "cell_type": "markdown",
      "source": [
        "En este caso, se puede ver que al usar dos formas diferentes de usar cross validation obtenemos resultados un poco diferentes. Por ejemplo que en el que es más sencillo me dió en complementNB un score de 0.70 mientras que el que es más a mano me dio un 0.67. Siendo un poco mejor, y eso pasa con todos. No creo que esto signifique el 100% es mejor el 1º que el 2º habría que revisar bien como hace los calculos que usa el de cross_val_score."
      ],
      "metadata": {
        "id": "_iFwzsJVfZe8"
      }
    }
  ]
}